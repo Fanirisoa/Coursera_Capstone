{
 "cells": [
  {
   "cell_type": "markdown",
   "metadata": {},
   "source": [
    "[<img src=\"/image/Adv_Data_Science_Specialization.png\" width=\"300\"/>](image.png)\n",
    "\n"
   ]
  },
  {
   "cell_type": "markdown",
   "metadata": {},
   "source": [
    "# <center><span  style=\"color:red\">Segmentation of contagion zones in New York State</span></center>"
   ]
  },
  {
   "cell_type": "markdown",
   "metadata": {},
   "source": [
    "\n",
    "Urban mass displacement meets the essential mobility needs of the large-scale urban population, but it also creates an ideal environment that favors the spread of infectious diseases, leading to exposure to significant risks to the massive urban population. \n",
    "\n",
    "One of the most important properties of epidemics is their spatial spread, a characteristic which mainly depends on the epidemic mechanism and  human mobility.  In this study, we are developing a geospatial and spatio-statistical analysis of the geographic dimension of the 2019 coronavirus disease pandemic (COVID-19) in New York state. The restrictions put in place to limit the diffusion and impacts of Covid-19 have had a widespread impact on people’s lives. \n",
    "\n",
    "The aim of this study is to investigate a geographic and geospatial analysis to understand the locations and distribution patterns of COVID-19 in order to be able to define and segment the zones of contagion.\n",
    "\n",
    "\n",
    "The study seeks to highlight  the mobility dynamics of the urban population as the process of leaving from home, traveling to and from the activity locations, and engaging in activities the urban transportation system may alter the fundamental dynamics of the infectious disease, change the number of secondary infections, promote the synchronization of the disease across the city, and affect the peak of the disease outbreaks. \n",
    "\n",
    "The study will be separated into 3 successive parts: \n",
    "\n",
    "<ol>\n",
    "<li>Extract and load the dataset</li>\n",
    "<li>Data preparation and future engineering</li>\n",
    "<li>Segmentation and clustering</li>\n",
    "</ol>\n"
   ]
  },
  {
   "cell_type": "markdown",
   "metadata": {},
   "source": [
    "## <span  style=\"color:blue\">A- Phase 1 : Extract and Load all the datasets</span> \n"
   ]
  },
  {
   "cell_type": "markdown",
   "metadata": {},
   "source": [
    "Import the necessary variables that can speed up the spread of the virus\n",
    "<ul>\n",
    "<li>Number of bus stops and metro stations (the more trips, the greater the risk of transmission)</li>\n",
    "<li>Number of cinemas (the more gatherings, the greater the risk of transmission)</li>\n",
    "<li>Number of schools (children are vectors of transmission)</li>\n",
    "<li>Number of hospitals</li>\n",
    "<li>number of shopping centers</li>\n",
    "</ul>\n",
    "\n",
    "Data will be obtained from :\n",
    "<ul>\n",
    "<li>Foursquare location data,</li>\n",
    "<li>US Zip Code Latitude and Longitude,</li>\n",
    "<li>New York City Bus Data : Kaggle</li>\n",
    "</ul>\n",
    "\n"
   ]
  },
  {
   "cell_type": "markdown",
   "metadata": {},
   "source": [
    "### US Zip Code Latitude and Longitude :   <a href=\"https://public.opendatasoft.com/explore/dataset/us-zip-code-latitude-and-longitude/table/?flg=fr&refine.state=NY&location=7,42.79,-75.84997&basemap=jawg.streets\">Link to the dataset</a> "
   ]
  },
  {
   "cell_type": "markdown",
   "metadata": {},
   "source": [
    "[<img src=\"image/codeZip.png\" width=\"3200\"/>](image.png)"
   ]
  },
  {
   "cell_type": "markdown",
   "metadata": {},
   "source": [
    "### New York City Bus Data Kaggle: <a href=\"https://www.kaggle.com/stoney71/new-york-city-transport-statistics?select=mta_1706.csv\">Link to the dataset</a> "
   ]
  },
  {
   "cell_type": "markdown",
   "metadata": {},
   "source": [
    "[<img src=\"image/kaggle.png\" width=\"3200\"/>](image.png) "
   ]
  },
  {
   "cell_type": "markdown",
   "metadata": {},
   "source": [
    "Imports updated statistical data on the COVID19 situation in each city:\n",
    "<ul>\n",
    "<li>Number new contaminates (J-1),</li>\n",
    "<li>Number of deaths,</li>\n",
    "<li>Number of cases out of 1M.</li>\n",
    "</ul>\n",
    "\n",
    "Data will be obtained from Webscraping: <a href=\"https://news.google.com/covid19/map?hl=en-US&gl=US&ceid=US%3Aen&mid=%2Fm%2F059rby\">Link to the dataset</a> "
   ]
  },
  {
   "cell_type": "markdown",
   "metadata": {},
   "source": [
    "[<img src=\"image/sante.png\" width=\"3200\"/>](image.png) "
   ]
  },
  {
   "cell_type": "markdown",
   "metadata": {},
   "source": [
    "## <span  style=\"color:blue\">B - Phase 2 : Data preparation and future engineering</span> \n"
   ]
  },
  {
   "cell_type": "markdown",
   "metadata": {},
   "source": [
    "<ol>\n",
    "<li>Data preparation : </li>\n",
    "    <ul><li>Normalization (using scale mean-variance)</li>\n",
    "    <li>Join and merge dataset</li>\n",
    "    <li>Group by</li>\n",
    "    </ul>    \n",
    "<li>Compute metrics</li>\n",
    "</ol>"
   ]
  },
  {
   "cell_type": "markdown",
   "metadata": {},
   "source": [
    "## <span  style=\"color:blue\">C - Phase 3: Segmentation and clustering</span> "
   ]
  },
  {
   "cell_type": "markdown",
   "metadata": {},
   "source": [
    "Under these updated metrics, micro-cluster zones will now be determined using K-means."
   ]
  },
  {
   "cell_type": "markdown",
   "metadata": {},
   "source": [
    "We hope that this study will inspire new reflections on the COVID-19 pandemic by readers."
   ]
  }
 ],
 "metadata": {
  "kernelspec": {
   "display_name": "Python 3",
   "language": "python",
   "name": "python3"
  },
  "language_info": {
   "codemirror_mode": {
    "name": "ipython",
    "version": 3
   },
   "file_extension": ".py",
   "mimetype": "text/x-python",
   "name": "python",
   "nbconvert_exporter": "python",
   "pygments_lexer": "ipython3",
   "version": "3.8.3"
  }
 },
 "nbformat": 4,
 "nbformat_minor": 4
}
